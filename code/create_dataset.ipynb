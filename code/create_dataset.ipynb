{
 "cells": [
  {
   "cell_type": "code",
   "execution_count": 1,
   "id": "fleet-squad",
   "metadata": {},
   "outputs": [],
   "source": [
    "import os\n",
    "import shutil\n",
    "import random\n",
    "from PIL import Image, ImageOps"
   ]
  },
  {
   "cell_type": "code",
   "execution_count": 10,
   "id": "indie-class",
   "metadata": {},
   "outputs": [],
   "source": [
    "images_train = \"../datasets/training_images/\"\n",
    "images_test = \"../datasets/testing_images/\"\n",
    "bg_color = 'rgb(255, 255, 179)'"
   ]
  },
  {
   "cell_type": "code",
   "execution_count": 11,
   "id": "three-teach",
   "metadata": {},
   "outputs": [
    {
     "name": "stdout",
     "output_type": "stream",
     "text": [
      "deleted DS_Store\n",
      "deleted DS_Store\n"
     ]
    }
   ],
   "source": [
    "all_train_fonts = os.listdir(images_train)\n",
    "\n",
    "if \".DS_Store\" in all_train_fonts:\n",
    "    del all_train_fonts[all_train_fonts.index(\".DS_Store\")]\n",
    "    print('deleted DS_Store')\n",
    "\n",
    "all_test_fonts = os.listdir(images_test)\n",
    "\n",
    "if \".DS_Store\" in all_test_fonts:\n",
    "    del all_test_fonts[all_test_fonts.index(\".DS_Store\")]\n",
    "    print('deleted DS_Store')\n",
    "\n"
   ]
  },
  {
   "cell_type": "code",
   "execution_count": null,
   "id": "initial-myanmar",
   "metadata": {},
   "outputs": [],
   "source": []
  },
  {
   "cell_type": "code",
   "execution_count": 12,
   "id": "corrected-possession",
   "metadata": {},
   "outputs": [],
   "source": [
    "def get_concat_h(im1, im2):\n",
    "    dst = Image.new('RGB', (im1.width + im2.width, im1.height))\n",
    "    dst.paste(im1, (0, 0))\n",
    "    dst.paste(im2, (im1.width, 0))\n",
    "    return dst\n",
    "\n",
    "def get_concat_v(im1, im2):\n",
    "    dst = Image.new('RGB', (im1.width, im1.height + im2.height))\n",
    "    dst.paste(im1, (0, 0))\n",
    "    dst.paste(im2, (0, im1.height))\n",
    "    return dst\n",
    "\n",
    "def get_concat_hv(japs,eng,n,col):\n",
    "    ctr = 0\n",
    "    h = []\n",
    "    for r in range(n-1):\n",
    "#         print(ctr)\n",
    "\n",
    "        h1 = ImageOps.colorize(japs[ctr], black = col, white = \"white\")\n",
    "        ctr+=1\n",
    "        if (r==(n//2)):\n",
    "            for i in range(1,n):\n",
    "                if i==(n//2):\n",
    "                    h1=get_concat_h(h1, ImageOps.colorize(eng, black = \"black\", white = bg_color))\n",
    "                    \n",
    "                    continue\n",
    "                h1=get_concat_h(h1,ImageOps.colorize(japs[ctr], black = col, white = \"white\"))\n",
    "                ctr+=1\n",
    "                \n",
    "            h.append(h1)\n",
    "            \n",
    "            continue\n",
    "        for i in range(1,n):\n",
    "            h1=get_concat_h(h1,ImageOps.colorize(japs[ctr], black = col, white = \"white\"))\n",
    "            ctr+=1\n",
    "        h.append(h1)\n",
    "                                \n",
    "    h1=get_concat_h(ImageOps.colorize(japs[6], black = col, white = \"white\"),ImageOps.colorize(japs[5], black = col, white = \"white\"))\n",
    "    h1=get_concat_h(h1,ImageOps.colorize(japs[7], black = col, white = \"white\"))\n",
    "    \n",
    "    h.append(h1)\n",
    "    \n",
    "#     h[-1]\n",
    "    \n",
    "    ans = h[0]\n",
    "#     print(len(h))\n",
    "    x=1\n",
    "    while(x<len(h)):\n",
    "        ans = get_concat_v(ans, h[x])\n",
    "        x+=1                                \n",
    "                    \n",
    "    \n",
    "    return ans.resize((256, 256), Image.ANTIALIAS)"
   ]
  },
  {
   "cell_type": "code",
   "execution_count": null,
   "id": "straight-colleague",
   "metadata": {},
   "outputs": [],
   "source": []
  },
  {
   "cell_type": "code",
   "execution_count": 6,
   "id": "streaming-catering",
   "metadata": {},
   "outputs": [
    {
     "name": "stdout",
     "output_type": "stream",
     "text": [
      "['A+', 'B+', 'C+', 'D+', 'E+', 'F+', 'H+', 'K+', 'L+', 'M+', 'N+', 'O+', 'P+', 'Q+', 'R+', 'S+', 'T+', 'U+', 'V+', 'W+', 'X+', 'Y+', 'Z+']\n"
     ]
    }
   ],
   "source": [
    "t = \"+ \".join(list(\"ACEHLMNPRT\")) + \"+\"\n",
    "# english = t.split(\" \") + list(\"abcdefghijklmnopqrstuvwxyz1234567890\")\n",
    "english = t.split(\" \") \n",
    "\n",
    "print(english)"
   ]
  },
  {
   "cell_type": "code",
   "execution_count": null,
   "id": "stunning-kelly",
   "metadata": {},
   "outputs": [],
   "source": []
  },
  {
   "cell_type": "code",
   "execution_count": 13,
   "id": "superior-venezuela",
   "metadata": {},
   "outputs": [
    {
     "data": {
      "text/plain": [
       "'AsobiMemogaki-Regular-1-01'"
      ]
     },
     "execution_count": 13,
     "metadata": {},
     "output_type": "execute_result"
    }
   ],
   "source": [
    "'AsobiMemogaki-Regular-1-01'"
   ]
  },
  {
   "cell_type": "code",
   "execution_count": 15,
   "id": "documentary-wealth",
   "metadata": {},
   "outputs": [
    {
     "data": {
      "text/plain": [
       "(['amakara_sample',\n",
       "  'JiyunoTsubasa',\n",
       "  'KajudenFont-Full-Regular',\n",
       "  'mikiyu-mokomori-siro',\n",
       "  'Ounen-mouhitsu',\n",
       "  'FGNewKururin',\n",
       "  'gakuran_font',\n",
       "  'UtsukushiFONT',\n",
       "  'Osaka',\n",
       "  'ArmedBanana',\n",
       "  'yutaCo2_p_Regular_OT_100',\n",
       "  'MT_TARE',\n",
       "  'yutapon_coding_080'],\n",
       " ['Harenosora',\n",
       "  'アプリ明朝',\n",
       "  'Zomzi',\n",
       "  '07鉄瓶ゴシック',\n",
       "  'mushin',\n",
       "  'Mamelon-3-Hi-Regular',\n",
       "  'SNsanafonyu',\n",
       "  'love',\n",
       "  '851MkPOP_002',\n",
       "  'YasashisaGothicBold-V2',\n",
       "  'Pigmo-01',\n",
       "  'Togalite-Black',\n",
       "  'FZImokenpi',\n",
       "  '001Shirokuma-Regular',\n",
       "  'Togalite-Light',\n",
       "  'Boku2-Regular',\n",
       "  '851CHIKARA-DZUYOKU_kanaA_004',\n",
       "  'Ronde-B_square',\n",
       "  'Kaiso-Next-B',\n",
       "  'hanserif_heavy',\n",
       "  'komorebi-gothic-P',\n",
       "  'OtsutomeFont_Ver3',\n",
       "  'ZakkuriGothic-BLK',\n",
       "  'nicomoji-plus_1',\n",
       "  'ラノベPOP',\n",
       "  '851Gkktt_005',\n",
       "  'nicokaku_v1',\n",
       "  'komorebi-gothic',\n",
       "  'YuseiMagic-Regular',\n",
       "  'Senobi-Gothic-Regular',\n",
       "  'K Gothic',\n",
       "  'GenEiAntiquePv5-M',\n",
       "  'AsobiMemogaki-Regular-1-01',\n",
       "  'Pomeranian-Regular',\n",
       "  'bananaslipplus',\n",
       "  'umeboshi_',\n",
       "  'HachiMaruPop',\n",
       "  'JKG-M_3',\n",
       "  'irohamaru-mikami-Regular',\n",
       "  'genkai-mincho',\n",
       "  'NikkyouSans-mLKax',\n",
       "  '‚ä‚¸ ƒ|ƒbƒv A [M] Bold',\n",
       "  'hanserif_bold',\n",
       "  'ちはや純',\n",
       "  'corp_round_v1',\n",
       "  'crayon_1-1',\n",
       "  '‚ä‚¸ ƒ|ƒbƒv A [M] Extra Light',\n",
       "  'Makinas-4-Square',\n",
       "  'KosugiMaru-Regular',\n",
       "  'SoukouMincho',\n",
       "  'PopRumCute',\n",
       "  'GN-Kin-iro_SansSerif'])"
      ]
     },
     "execution_count": 15,
     "metadata": {},
     "output_type": "execute_result"
    }
   ],
   "source": [
    "all_test_fonts, all_train_fonts"
   ]
  },
  {
   "cell_type": "code",
   "execution_count": 20,
   "id": "toxic-armenia",
   "metadata": {},
   "outputs": [
    {
     "name": "stdout",
     "output_type": "stream",
     "text": [
      "Training data done\n"
     ]
    }
   ],
   "source": [
    "# creating training data\n",
    "import numpy as np\n",
    "from tqdm import tqdm\n",
    "i = 0\n",
    "while i<1500:\n",
    "    col= f'rgb({random.randint(0,128)},{random.randint(0,128)},{random.randint(0,128)})'\n",
    "#     font_index = random.randint(0, len(all_fonts)-5)\n",
    "    font_index = random.randint(0, len(all_train_fonts)-1)\n",
    "    \n",
    "    \n",
    "    jap_alp = os.listdir(images_train + all_train_fonts[font_index])\n",
    "    jap_alp.sort()\n",
    "    jap_alp = jap_alp[63:]\n",
    "    \n",
    "    jap_alp_indexs = np.random.choice(list(range(0, len(jap_alp)-1)), 8,replace=True)\n",
    "    \n",
    "    eng_index = random.randint(0, len(english)-1)\n",
    "    \n",
    "    # read the images \n",
    "#     jap1 = Image.open(images + all_fonts[font_index] + '/' + jap_alp[jap_alp_indexs[0]] ) \n",
    "#     jap2 = Image.open(images + all_fonts[font_index] + '/' + jap_alp[jap_alp_indexs[1]] )\n",
    "#     jap3 = Image.open(images + all_fonts[font_index] + '/' + jap_alp[jap_alp_indexs[2]] )\n",
    "    japs = [Image.open(images_train + all_train_fonts[font_index] + '/' + jap_alp[jap_alp_indexs[i]] ) for i in range(8)]\n",
    "    try:\n",
    "        eng_output = Image.open(images_train + all_train_fonts[font_index] + '/' + english[eng_index] + \".png\")\n",
    "        eng_output = eng_output.resize((256,256), Image.ANTIALIAS)\n",
    "        eng_output = ImageOps.colorize(eng_output, black = col, white = bg_color)\n",
    "    except:\n",
    "        continue\n",
    "    \n",
    "    eng = Image.open(\"./Gotham/\" + english[eng_index] + \".png\")\n",
    "    \n",
    "    X = get_concat_hv(japs, eng,3,col)\n",
    "    \n",
    "    # saving the training data\n",
    "    X.save(\"A/train/\" + str(i) + \".png\")\n",
    "    eng_output.save(\"B/train/\" + str(i) + \".png\")\n",
    "    i +=1\n",
    "    \n",
    "    \n",
    "    \n",
    "    \n",
    "print(\"Training data done\")   \n",
    "    \n",
    "    "
   ]
  },
  {
   "cell_type": "code",
   "execution_count": 21,
   "id": "nasty-mountain",
   "metadata": {},
   "outputs": [
    {
     "name": "stdout",
     "output_type": "stream",
     "text": [
      "Val data done\n"
     ]
    }
   ],
   "source": [
    "# creating val data\n",
    "i=0\n",
    "while i<1000:\n",
    "    col= f'rgb({random.randint(0,128)},{random.randint(0,128)},{random.randint(0,128)})'\n",
    "    \n",
    "#     font_index = random.randint(len(all_fonts)-6, len(all_fonts)-1)\n",
    "    font_index = random.randint(0, len(all_test_fonts)-1)\n",
    "    \n",
    "    \n",
    "    jap_alp = os.listdir(images_test + all_test_fonts[font_index])\n",
    "    jap_alp.sort()\n",
    "    jap_alp = jap_alp[63:]\n",
    "    \n",
    "    jap_alp_indexs = np.random.choice(list(range(0, len(jap_alp)-1)), 8,replace=True)\n",
    "    \n",
    "    eng_index = random.randint(0, len(english)-1)\n",
    "    \n",
    "    # read the images \n",
    "#     jap1 = Image.open(images + all_fonts[font_index] + '/' + jap_alp[jap_alp_indexs[0]] ) \n",
    "#     jap2 = Image.open(images + all_fonts[font_index] + '/' + jap_alp[jap_alp_indexs[1]] )\n",
    "#     jap3 = Image.open(images + all_fonts[font_index] + '/' + jap_alp[jap_alp_indexs[2]] )\n",
    "    japs = [Image.open(images_test + all_test_fonts[font_index] + '/' + jap_alp[jap_alp_indexs[i]] ) for i in range(8)]\n",
    "    try:\n",
    "        eng_output = Image.open(images_test + all_test_fonts[font_index] + '/' + english[eng_index] + \".png\")\n",
    "        eng_output = eng_output.resize((256,256), Image.ANTIALIAS)\n",
    "        eng_output = ImageOps.colorize(eng_output, black = col, white = bg_color)\n",
    "\n",
    "    except:\n",
    "        continue\n",
    "    \n",
    "    eng = Image.open(\"./Gotham/\" + english[eng_index] + \".png\")\n",
    "    \n",
    "    X = get_concat_hv(japs, eng,3,col)\n",
    "\n",
    "    \n",
    "    \n",
    "    # saving the training data\n",
    "    X.save(\"A/val/\" + str(i) + \".png\")\n",
    "    eng_output.save(\"B/val/\" + str(i) + \".png\")\n",
    "    i+=1\n",
    "    \n",
    "\n",
    "print(\"Val data done\")  \n",
    "    \n",
    "    \n",
    "    \n",
    "    \n",
    "    "
   ]
  },
  {
   "cell_type": "code",
   "execution_count": 22,
   "id": "color-vermont",
   "metadata": {},
   "outputs": [
    {
     "name": "stdout",
     "output_type": "stream",
     "text": [
      "Test data done\n"
     ]
    }
   ],
   "source": [
    "# creating test data\n",
    "i=0\n",
    "while i<1000:\n",
    "    col= f'rgb({random.randint(0,128)},{random.randint(0,128)},{random.randint(0,128)})'\n",
    "    \n",
    "    \n",
    "#     font_index = random.randint(len(all_fonts)-6, len(all_fonts)-1)\n",
    "    font_index = random.randint(0, len(all_test_fonts)-1)\n",
    "    \n",
    "    jap_alp = os.listdir(images_test + all_test_fonts[font_index])\n",
    "    jap_alp.sort()\n",
    "    jap_alp = jap_alp[63:]\n",
    "    \n",
    "    jap_alp_indexs = np.random.choice(list(range(0, len(jap_alp)-1)), 8,replace=True)\n",
    "    \n",
    "    eng_index = random.randint(0, len(english)-1)\n",
    "    \n",
    "    # read the images \n",
    "#     jap1 = Image.open(images + all_fonts[font_index] + '/' + jap_alp[jap_alp_indexs[0]] ) \n",
    "#     jap2 = Image.open(images + all_fonts[font_index] + '/' + jap_alp[jap_alp_indexs[1]] )\n",
    "#     jap3 = Image.open(images + all_fonts[font_index] + '/' + jap_alp[jap_alp_indexs[2]] )\n",
    "    japs = [Image.open(images_test + all_test_fonts[font_index] + '/' + jap_alp[jap_alp_indexs[i]] ) for i in range(8)]\n",
    "    try:\n",
    "        eng_output = Image.open(images_test + all_test_fonts[font_index] + '/' + english[eng_index] + \".png\")\n",
    "        eng_output = eng_output.resize((256,256), Image.ANTIALIAS)\n",
    "        eng_output = ImageOps.colorize(eng_output, black = col, white = bg_color)\n",
    "\n",
    "    except:\n",
    "        continue\n",
    "    \n",
    "    eng = Image.open(\"./Gotham/\" + english[eng_index] + \".png\")\n",
    "    \n",
    "    X = get_concat_hv(japs, eng,3,col)\n",
    "\n",
    "    \n",
    "    # saving the training data\n",
    "    X.save(\"A/test/\" + str(i) + \".png\")\n",
    "    eng_output.save(\"B/test/\" + str(i) + \".png\")\n",
    "    i+=1\n",
    "\n",
    "print(\"Test data done\")  \n",
    "    \n",
    "    \n",
    "    \n",
    "    \n",
    "    \n",
    "    "
   ]
  },
  {
   "cell_type": "code",
   "execution_count": null,
   "id": "intermediate-iceland",
   "metadata": {},
   "outputs": [],
   "source": []
  },
  {
   "cell_type": "code",
   "execution_count": null,
   "id": "desirable-delicious",
   "metadata": {},
   "outputs": [],
   "source": []
  }
 ],
 "metadata": {
  "kernelspec": {
   "display_name": "Python 3",
   "language": "python",
   "name": "python3"
  },
  "language_info": {
   "codemirror_mode": {
    "name": "ipython",
    "version": 3
   },
   "file_extension": ".py",
   "mimetype": "text/x-python",
   "name": "python",
   "nbconvert_exporter": "python",
   "pygments_lexer": "ipython3",
   "version": "3.9.2"
  }
 },
 "nbformat": 4,
 "nbformat_minor": 5
}
