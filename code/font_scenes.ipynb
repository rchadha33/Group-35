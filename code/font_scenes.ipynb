{
  "cells": [
    {
      "cell_type": "code",
      "execution_count": null,
      "metadata": {
        "id": "KHFljvE38yLg",
        "outputId": "1a4297ab-1d2b-48a9-aba7-f71a56064fa4"
      },
      "outputs": [
        {
          "name": "stdout",
          "output_type": "stream",
          "text": [
            "pygame 2.0.1 (SDL 2.0.14, Python 3.9.2)\n",
            "Hello from the pygame community. https://www.pygame.org/contribute.html\n"
          ]
        }
      ],
      "source": [
        "import os\n",
        "import pygame\n",
        "import time\n",
        "import sys\n",
        "import pandas as pd\n",
        "import numpy as np\n",
        "import shutil\n",
        "from matplotlib import cm\n",
        "from collections import Counter\n",
        "from PIL import Image, ImageOps\n",
        "import random"
      ]
    },
    {
      "cell_type": "code",
      "execution_count": null,
      "metadata": {
        "id": "IlRk1are8yLi"
      },
      "outputs": [],
      "source": []
    },
    {
      "cell_type": "markdown",
      "metadata": {
        "id": "An5Mnz-68yLi"
      },
      "source": [
        "# if converting otf to ttf, remove AnyConv.com__"
      ]
    },
    {
      "cell_type": "code",
      "execution_count": null,
      "metadata": {
        "id": "9ujuH3_x8yLj"
      },
      "outputs": [],
      "source": [
        "font_file = 'testing_fonts'\n",
        "image_file = 'testing_images'"
      ]
    },
    {
      "cell_type": "code",
      "execution_count": null,
      "metadata": {
        "id": "Zos9L86B8yLk"
      },
      "outputs": [],
      "source": [
        "fonts = os.listdir(font_file)\n",
        "\n",
        "path = \"/Users/himanshu/Desktop/DL_project/datasets/fonts/\"\n",
        "\n",
        "for name in fonts:\n",
        "    if \"AnyConv.com__\" in name:\n",
        "        new_name = name.replace(\"AnyConv.com__\", \"\")\n",
        "        os.rename(path + name, path +new_name)\n",
        "\n",
        "        print(name, \"changed\")\n"
      ]
    },
    {
      "cell_type": "code",
      "execution_count": null,
      "metadata": {
        "id": "uDD4_Gfv8yLk"
      },
      "outputs": [],
      "source": []
    },
    {
      "cell_type": "code",
      "execution_count": null,
      "metadata": {
        "id": "m78wbUfu8yLk"
      },
      "outputs": [],
      "source": []
    },
    {
      "cell_type": "code",
      "execution_count": null,
      "metadata": {
        "id": "rZ8F-W4h8yLk"
      },
      "outputs": [],
      "source": []
    },
    {
      "cell_type": "code",
      "execution_count": null,
      "metadata": {
        "id": "k09h_tm68yLk"
      },
      "outputs": [],
      "source": []
    },
    {
      "cell_type": "markdown",
      "metadata": {
        "id": "zQQZoqOS8yLk"
      },
      "source": [
        "# from utils"
      ]
    },
    {
      "cell_type": "code",
      "execution_count": null,
      "metadata": {
        "id": "qQZ5AGMa8yLk"
      },
      "outputs": [],
      "source": [
        "import os\n",
        "import pygame\n",
        "import time\n",
        "import sys\n",
        "import pandas as pd\n",
        "import numpy as np\n",
        "import shutil\n",
        "from matplotlib import cm\n",
        "from collections import Counter\n",
        "from PIL import Image\n",
        "\n",
        "pygame.init()\n",
        "\n",
        "def font2image(input_file, output_paths, characters, size, fill_color):\n",
        "    input_file_name = input_file.split(os.sep)[-1].split('.')[0]   # get output file_name\n",
        "    output_path = os.path.join(output_paths, input_file_name)\n",
        "\n",
        "    if not os.path.exists(output_path):\n",
        "        os.mkdir(output_path)\n",
        "\n",
        "    AZ = [chr(i) for i in range(0x0041,0x005A+1)]\n",
        "    file_sizes=[]\n",
        "    for word in characters:\n",
        "        font = pygame.font.Font(input_file, size)\n",
        "        rtext = font.render(word, True, (0, 0, 0), (255, 255, 255))\n",
        "\n",
        "        if word in AZ:      # for uppercase letter\n",
        "            word = word+'+'\n",
        "        pygame.image.save(rtext, os.path.join(output_path,word+\".png\"))\n",
        "\n",
        "    remove_duplicated_images(output_path)\n",
        "    process_image(output_path, size, fill_color)\n",
        "\n",
        "def remove_duplicated_images(path):\n",
        "    while True:\n",
        "        files = os.listdir(path)\n",
        "        if len(files)==0:\n",
        "            print('!!!!!!!!!!!!!!!!!!error:{}'.format(path))\n",
        "            break\n",
        "        file_sizes = []\n",
        "        for file in files:\n",
        "            file_size = os.path.getsize(os.path.join(path,file))\n",
        "            file_sizes.append(file_size)\n",
        "        counter = Counter(file_sizes)\n",
        "        most_common_number = counter.most_common(1)[0][1]\n",
        "        if most_common_number<=10:\n",
        "            break\n",
        "        most_common = counter.most_common(1)[0][0]\n",
        "        for file in files:                                        # remove empty images\n",
        "            file_path = os.path.join(path, file)\n",
        "            if os.path.getsize(file_path)==most_common:\n",
        "                os.remove(file_path)\n",
        "\n",
        "def load_image(path):\n",
        "    image = Image.open(path).convert('L')\n",
        "    image = np.array(image)\n",
        "    return image\n",
        "\n",
        "def cut_image(image):\n",
        "    (h, w) = image.shape\n",
        "    h_value = 255*h\n",
        "    w_value = 255*w\n",
        "    left = 0\n",
        "    right = w\n",
        "    upper = 0\n",
        "    bottom = h\n",
        "    for r in range(w):\n",
        "        value = image[:, r].sum()\n",
        "        if value==h_value:\n",
        "            left += 1\n",
        "        else:\n",
        "            break\n",
        "    for r in range(w-1, -1, -1):\n",
        "        value = image[:,r].sum()\n",
        "        if value==h_value:\n",
        "            right -= 1\n",
        "        else:\n",
        "            break\n",
        "    for c in range(h):\n",
        "        value = image[c, :].sum()\n",
        "        if value==w_value:\n",
        "            upper += 1\n",
        "        else:\n",
        "            break\n",
        "    for c in range(h-1, -1, -1):\n",
        "        value = image[c, :].sum()\n",
        "        if value==w_value:\n",
        "            bottom -= 1\n",
        "        else:\n",
        "            break\n",
        "    if left==w or right==0 or upper==h or bottom==0:\n",
        "        left = 0\n",
        "        right = w\n",
        "        upper = 0\n",
        "        bottom = h\n",
        "    image_cut = image[upper:bottom, left:right]\n",
        "    return image_cut\n",
        "\n",
        "def resize_image(image_cut, size):\n",
        "    (h, w) = image_cut.shape\n",
        "    image_p = Image.fromarray(np.uint8(cm.gray(image_cut)*255))\n",
        "    image_resized = image_p\n",
        "    if h>w:\n",
        "        if h>size:\n",
        "            ratio = h/size\n",
        "            adjust = int(w/ratio)\n",
        "            if adjust<1:\n",
        "                adjust=1\n",
        "            image_resized = image_p.resize((adjust, size))\n",
        "    else:\n",
        "        if w>size:\n",
        "            ratio = w/size\n",
        "            adjust = int(h/ratio)\n",
        "            if adjust<1:\n",
        "                adjust=1\n",
        "            image_resized = image_p.resize((size, adjust))\n",
        "    return image_resized\n",
        "\n",
        "def pad_image(image_resized, size):\n",
        "    back = Image.new('L', (size, size), color=255)\n",
        "    h_r, v_r = image_resized.size\n",
        "    h = int((size-h_r)/2)\n",
        "    v = int((size-v_r)/2)\n",
        "    back.paste(image_resized,(h, v))\n",
        "    return back\n",
        "\n",
        "def color_text(image, color):\n",
        "    '''\n",
        "    By himanshu\n",
        "    coloring the text\n",
        "    '''\n",
        "    return ImageOps.colorize(image, black =color, white =\"white\")\n",
        "\n",
        "def get_random_color():\n",
        "\n",
        "    color = 'rgb(' + str(random.randint(0, 255)) + ',' + str(random.randint(0, 255)) + ',' + str(random.randint(0, 255)) +')'\n",
        "\n",
        "    return color\n",
        "\n",
        "def process_image(path, size, fill_color):\n",
        "    files = os.listdir(path)\n",
        "\n",
        "    color = get_random_color()\n",
        "\n",
        "    for file in files:\n",
        "        file_path = os.path.join(path, file)\n",
        "        image = load_image(file_path)\n",
        "        image = cut_image(image)\n",
        "        image = resize_image(image, size)\n",
        "        image = pad_image(image, size)\n",
        "        if fill_color == True:\n",
        "            image = color_text(image, color)\n",
        "        image.save(file_path)\n",
        "\n",
        "def remove_empty_floder(path):\n",
        "    files = os.listdir(path)\n",
        "    for file in files:\n",
        "        if not os.listdir(os.path.join(path,file)):\n",
        "            os.rmdir(os.path.join(path,file))\n",
        "            print(file,' |removed')\n",
        "    print(\"done!\")\n",
        "\n",
        "# check current font exists the given characters or not\n",
        "def check_image_exists(path, characters):\n",
        "    AZ = [chr(i) for i in range(0x0041,0x005A+1)]\n",
        "    for word in characters:\n",
        "        if word in AZ:\n",
        "            word = word+'+'\n",
        "        image = word+'.png'\n",
        "        image_path = os.path.join(path, image)\n",
        "        if not os.path.exists(image_path):\n",
        "            print('no ', word)\n",
        "    print('done!')"
      ]
    },
    {
      "cell_type": "code",
      "execution_count": null,
      "metadata": {
        "id": "J5uhhexF8yLl",
        "outputId": "2ebd40bf-8a9c-49bf-a963-1091e3cc9009"
      },
      "outputs": [
        {
          "name": "stdout",
          "output_type": "stream",
          "text": [
            "English: 62  | japanese: 240  | chinese: 994  | korean: 97\n"
          ]
        }
      ],
      "source": [
        "english = \"ABCDEFGHIJKLMNOPQRSTUVWXYZabcdefghijklmnopqrstuvwxyz1234567890\"\n",
        "\n",
        "# adding 240 japanese characters\n",
        "japanese = \"一二三四五六七八九十百千上下左右中大小月日年早木林山川土空田天生花草虫犬人名女男子目耳口手足見音力気円入出立休先夕本文字学校村町森正水火玉王石竹糸貝車金雨赤青白数多少万半形太細広長点丸交光角計直線矢弱強高同親母父姉兄弟妹自友体毛頭顔首心時曜朝昼夜分週春夏秋冬今新古間方北南東西遠近前後内外場地国園谷野原里市京風雪雲池海岩星室戸家寺通門道話言答声聞語読書記紙画絵図工教晴思考知才理算作元食肉馬牛魚鳥羽鳴麦米茶色黄黒来行帰歩走止活店買売午汽弓回会組船明社切電毎合当台楽公引科歌刀番用何\"\n",
        "\n",
        "chinese = \"的一是了我不人在他有这个上们来到时田大地为子中你说生国年川着就那和要她出也得里后自以会家可下而过天去能对小多然于心学么之都好看起发当没成只如事把还用第样道想作种开美总从无情己面最女但现前些所同日手又行意动方期它头经长儿回位分爱老因很给名法间斯知世什两次使身者被高已亲其进此话常与活正感见明问力理尔点文几定本公特做外孩相西果走将月十实向声车全信重三机工物气每并别真打太新比才便夫再书部水像眼等体却加电主界门利海受听表德少克代员许先口由死安写性马光白或住难望教命花结乐色更拉东神记处让母父应直字场平报友关放至张认接告入笑内英军候民岁往何度山觉路带万男边风解叫任金快原吃妈变通师立象数四失满战远格士音轻目条呢病始达深完今提求清王化空业思切怎非找片罗钱吗语元喜曾离飞科言干流欢约各即指合反题必该论交终林请医晚制球决传画保读运及则房早院量苦火布品近坐产答星精视五连司巴奇管类未朋且婚台夜青北队久乎越观落尽形影红爸百令周吧识步希亚术留市半热送兴造谈容极随演收首根讲整式取照办强石古华拿计您装似足双妻尼转诉米称丽客南领节衣站黑刻统断福城故历惊脸选包紧争另建维绝树系伤示愿持千史谁准联妇纪基买志静阿诗独复痛消社算义竟确酒需单治卡幸兰念举仅钟怕共毛句息功官待究跟穿室易游程号居考突皮哪费倒价图具刚脑永歌响商礼细专黄块脚味灵改据般破引食仍存众注笔甚某沉血备习校默务土微娘须试怀料调广苏显赛查密议底列富梦错座参八除跑亮假印设线温虽掉京初养香停际致阳纸李纳验助激够严证帝饭忘趣支春集丈木研班普导顿睡展跳获艺六波察群皇段急庭创区奥器谢弟店否害草排背止组州朝封睛板角况曲馆育忙质河续哥呼若推境遇雨标姐充围案伦护冷警贝著雪索剧啊船险烟依斗值帮汉慢佛肯闻唱沙局伯族低玩资屋击速顾泪洲团圣旁堂兵七露园牛哭旅街劳型烈姑陈莫鱼异抱宝权鲁简态级票怪寻杀律胜份汽右洋范床舞秘午登楼贵吸责例追较职属渐左录丝牙党继托赶章智冲叶胡吉卖坚喝肉遗救修松临藏担戏善卫药悲敢靠伊村戴词森耳差短祖云规窗散迷油旧适乡架恩投弹铁博雷府压超负勒杂醒洗采毫嘴毕九冰既状乱景席珍童顶派素脱农疑练野按犯拍征坏骨余承置彩灯巨琴免环姆暗换技翻束增忍餐洛塞缺忆判欧层付阵玛批岛项狗休懂武革良恶恋委拥娜妙探呀营退摇弄桌熟诺宣银势奖宫忽套康供优课鸟喊降夏困刘罪亡鞋健模败伴守挥鲜财孤枪禁恐伙杰迹妹遍盖副坦牌江顺秋萨菜划授归浪听凡预奶雄升编典袋莱含盛济蒙棋端腿招释介烧误\"\n",
        "korean = \"ᄀᄁᄂᄃᄄᄅᄆᄇᄈᄉᄊᄋᄌᄍᄎᄏᄐᄑ햬양약얀야앵액애앞앙압암알안악아어억언얼엄업엉에여역연열염엽영예용욕요왼외왜왕왈완와옹옴올온옥오우욱운울움웅워원월위유육윤율융윷잎잉입임일인익이의응읍음을은으\"\n",
        "\n",
        "print(\"English:\", len(english), \" | japanese:\", len(japanese), \" | chinese:\", len(chinese), \" | korean:\", len(korean))\n"
      ]
    },
    {
      "cell_type": "code",
      "execution_count": null,
      "metadata": {
        "id": "GMMauAXQ8yLm"
      },
      "outputs": [],
      "source": [
        "common_list = english + japanese"
      ]
    },
    {
      "cell_type": "code",
      "execution_count": null,
      "metadata": {
        "id": "z4-pTlWG8yLm",
        "outputId": "8904f1fa-e552-4c33-d38b-9c357d6295f9"
      },
      "outputs": [
        {
          "name": "stdout",
          "output_type": "stream",
          "text": [
            "KajudenFont-Full-Regular.ttf done\n",
            "FGNewKururin.otf done\n",
            "MT_TARE.ttf done\n",
            ".DS_Store failed......\n",
            "mikiyu-mokomori-siro.ttf done\n",
            "JiyunoTsubasa.ttf done\n",
            "ArmedBanana.ttf done\n",
            "UtsukushiFONT.otf done\n",
            "Osaka.ttc done\n",
            "yutaCo2_p_Regular_OT_100.otf done\n",
            "yutapon_coding_080.ttc done\n",
            "mikiyu-mokomori-b.ttf done\n",
            "!!!!!!!!!!!!!!!!!!error:testing_images/NemukeMedium-0213\n",
            "NemukeMedium-0213.otf done\n",
            "gakuran_font.TTF done\n",
            "amakara_sample.ttf done\n",
            "Ounen-mouhitsu.otf done\n",
            "----------------------------\n",
            "Successfully converted = 15\n",
            "Failed = 1\n"
          ]
        }
      ],
      "source": [
        "\n",
        "fonts = os.listdir(font_file)\n",
        "\n",
        "done, failed = 0, 0\n",
        "\n",
        "for font in fonts:\n",
        "    try:\n",
        "        font_path = os.path.join(font_file, font)\n",
        "        font2image(font_path, image_file, common_list, 60, fill_color = False)\n",
        "        done += 1\n",
        "        print(font, \"done\")\n",
        "    except:\n",
        "        failed += 1\n",
        "        print(font, \"failed......\")\n",
        "\n",
        "\n",
        "print(\"----------------------------\")\n",
        "\n",
        "print(\"Successfully converted =\", done)\n",
        "print(\"Failed =\", failed)"
      ]
    },
    {
      "cell_type": "code",
      "execution_count": null,
      "metadata": {
        "id": "BSL73kOw8yLn"
      },
      "outputs": [],
      "source": []
    }
  ],
  "metadata": {
    "kernelspec": {
      "display_name": "Python 3",
      "language": "python",
      "name": "python3"
    },
    "language_info": {
      "codemirror_mode": {
        "name": "ipython",
        "version": 3
      },
      "file_extension": ".py",
      "mimetype": "text/x-python",
      "name": "python",
      "nbconvert_exporter": "python",
      "pygments_lexer": "ipython3",
      "version": "3.9.2"
    },
    "colab": {
      "provenance": []
    }
  },
  "nbformat": 4,
  "nbformat_minor": 0
}